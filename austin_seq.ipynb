{
 "cells": [
  {
   "cell_type": "code",
   "execution_count": 3,
   "id": "0d82cb6c-a84c-46ee-af63-e20443d991fb",
   "metadata": {},
   "outputs": [],
   "source": [
    "import sympy\n",
    "import sequences\n",
    "import igraph\n",
    "from igraph import Graph, EdgeSeq\n",
    "import plotly.graph_objects as go"
   ]
  },
  {
   "cell_type": "code",
   "execution_count": 52,
   "id": "b6d5579f-0c74-44b0-84b8-2e5a350e95de",
   "metadata": {},
   "outputs": [],
   "source": [
    "g = sympy.Function('G')\n",
    "c = sympy.Function('C')\n",
    "q = sympy.Function('Q')\n",
    "t = sympy.Function('T')\n",
    "h = sympy.Function('H')\n",
    "n = sympy.symbols('n')\n",
    "f = sympy.Function('F')\n",
    "gol = sequences.Recurrence(g(n-g(n-1)) + 1, g, n)\n",
    "conn = sequences.Recurrence(c(n-c(n-1)) + c(n-1-c(n-2)), c, n)\n",
    "hofs = sequences.Recurrence(q(n-q(n-1)) + q(n-q(n-2)), q, n)\n",
    "tanny = sequences.Recurrence(t(n-1-t(n-1))+t(n-2-t(n-2)), t, n)\n",
    "new = sequences.Recurrence(h(n-1-h(n-2))+h(n-3-h(n-4)), h, n)\n",
    "\n",
    "neg = sequences.Recurrence(f(n+2-f(n-1))+f(n+1-f(n-2)),f,n)"
   ]
  },
  {
   "cell_type": "code",
   "execution_count": 5,
   "id": "a9256c29-096e-495c-b3da-59e7c6b3fae3",
   "metadata": {},
   "outputs": [
    {
     "data": {
      "text/plain": [
       "[1, 2, 2, 3, 4, 4, 4, 4, 5, 6, 7, 8, 8, 8, 8, 8, 8, 9, 10, 11, 12, 12, 12, 13, 14, 15, 16, 16, 16, 16, 16, 16, 16, 16, 17, 18, 19, 20, 20, 20, 21, 22, 23, 24, 24, 24, 24, 24, 25, 26, 27, 28, 28, 28, 29, 30, 31, 32, 32, 32, 32, 32, 32, 32, 32, 32, 32, 33, 34, 35, 36, 36, 36, 37, 38, 39, 40, 40, 40, 40, 40, 41, 42, 43, 44, 44, 44, 45, 46, 47, 48, 48, 48, 48, 48, 48, 48, 49, 50, 51]"
      ]
     },
     "execution_count": 5,
     "metadata": {},
     "output_type": "execute_result"
    }
   ],
   "source": [
    "sequences.seq_terms(sequences.Sequence([1,2,2,3,4,4,4]), new, 1, 101)"
   ]
  },
  {
   "cell_type": "code",
   "execution_count": 6,
   "id": "71ffd6d1-703d-454f-a103-118d160a7c80",
   "metadata": {},
   "outputs": [],
   "source": [
    "tsequences.seq_terms(sequences.Sequence([1,1]), gol, 1, 101)"
   ]
  },
  {
   "cell_type": "code",
   "execution_count": 53,
   "id": "033fc375-c956-4ba6-92ac-d21a29145669",
   "metadata": {},
   "outputs": [
    {
     "data": {
      "text/plain": [
       "[4, 5, 6, 6, 7, 8, 8, 9, 10, 10, 11, 12, 12, 12, 13, 14, 14, 15, 16, 16, 16, 17, 18, 18, 19, 20, 20, 20, 21, 22, 22, 23, 24, 24, 24, 24, 25, 26, 26, 27, 28, 28, 28, 29, 30, 30, 31, 32, 32, 32, 32, 33, 34, 34, 35, 36, 36, 36, 37, 38, 38, 39, 40, 40, 40, 40, 41, 42, 42, 43, 44, 44, 44, 45, 46, 46, 47, 48, 48, 48, 48, 48, 49, 50, 50, 51, 52, 52, 52, 53, 54, 54, 55, 56, 56, 56, 56, 57, 58, 58]"
      ]
     },
     "execution_count": 53,
     "metadata": {},
     "output_type": "execute_result"
    }
   ],
   "source": [
    "sequences.seq_terms(sequences.Sequence([4,5,6,6,7]),neg,1,101)"
   ]
  },
  {
   "cell_type": "code",
   "execution_count": 30,
   "id": "7b7e6eac-733d-4f0a-8415-610f0b62d65f",
   "metadata": {},
   "outputs": [
    {
     "data": {
      "text/plain": [
       "[10, 10, 11, 12, 12, 12, 13, 14, 14, 15, 16, 17, 18, 18, 19, 20, 20, 20, 21, 22, 22, 23, 24, 24, 24, 24, 25, 26, 26, 27, 28, 28, 28, 29, 30, 30, 31, 32, 32, 33, 34, 34, 35, 36, 36, 36, 37, 38, 38, 39, 40, 40, 40, 40, 41, 42, 42, 43, 44, 44, 44, 45, 46, 46, 47, 48, 48, 48, 48, 48, 49, 50, 50, 51, 52, 52, 52, 53, 54, 54, 55, 56, 56, 56, 56, 57, 58, 58, 59, 60, 60, 60, 61, 62, 62, 63, 64, 64, 64, 65]"
      ]
     },
     "execution_count": 30,
     "metadata": {},
     "output_type": "execute_result"
    }
   ],
   "source": [
    "sequences.seq_terms(sequences.Sequence([10,10,11,12,12,12,13,14,14,15,16,17,18,18,19]),neg,1,101)"
   ]
  },
  {
   "cell_type": "code",
   "execution_count": 66,
   "id": "a74d027a-3a69-4bca-b7d4-cd651007ae7a",
   "metadata": {
    "scrolled": true,
    "tags": []
   },
   "outputs": [
    {
     "name": "stdout",
     "output_type": "stream",
     "text": [
      "[4, 5, 6, 6, 7, 8, 8, 9, 10, 10, 11, 12, 12, 12, 13, 14, 14, 15, 16, 16, 16, 17, 18, 18, 19, 20, 20, 20, 21, 22, 22, 23, 24, 24, 24, 24, 25, 26, 26, 27, 28, 28, 28, 29, 30, 30, 31, 32]\n"
     ]
    }
   ],
   "source": [
    "# used to keep track of the value of the nodes during traversed and the tree's leaves \n",
    "global num\n",
    "global leaves\n",
    "\n",
    "class Node:\n",
    "# creates a node with a specific value (stored as a list), children (stored as a list), and a height\n",
    "# self.supernode keeps track of if a specific node is a supernode or not \n",
    "    def __init__(self,height = 0, supernode = True):\n",
    "        self.value = []\n",
    "        self.children = []\n",
    "        self.height = height\n",
    "        self.supernode = supernode\n",
    "        \n",
    "# creates a tree skeleton using the node it is called upon as the root \n",
    "# num_children determines how many children each node has \n",
    "    def make_skeleton(self, num_children):\n",
    "        # as long as the height of the node is greater than 0, this will add n children to self.children \n",
    "        # if the node is a supernode, that node's left child is also a supernode \n",
    "        for i in range(0,num_children):\n",
    "            if self.supernode==True and i == 0 and self.height > 0:\n",
    "                self.children.append(Node(height = self.height - 1, supernode=True))\n",
    "            elif self.height > 0:\n",
    "                self.children.append(Node(height = self.height - 1, supernode = False))\n",
    "        # calls the same function on the node's children, as long as their height is >0 \n",
    "        for child in self.children:\n",
    "            if child.height > 0:\n",
    "                child.make_skeleton(num_children)\n",
    "    \n",
    "    # resets num, and then calls a function which labels the skeleton \n",
    "    # each of the parameters detemines the number of values in supernodes, non-supernodes, and leaves \n",
    "    def label_skeleton(self,supernode_values=1,nonsupernode_values=1,leave_values=1):\n",
    "        global num \n",
    "        num = 1\n",
    "        Node.call_label_skeleton(self,supernode_values,nonsupernode_values,leave_values)\n",
    "        \n",
    "    # traverses the tree and labels each node \n",
    "    def call_label_skeleton(self,supernode_values,nonsupernode_values,leave_values):\n",
    "        global num\n",
    "        # if the node is a supernode with height > 0, calls the function on the left child, labels itself, \n",
    "        # and then calls the function on its other children \n",
    "        if self.supernode==True and self.height >0:\n",
    "            Node.call_label_skeleton(self.children[0],supernode_values,nonsupernode_values,leave_values)\n",
    "            for i in range(0,supernode_values):\n",
    "                self.value.append(num)\n",
    "                num+= 1\n",
    "            for child in self.children[1:]:\n",
    "                Node.call_label_skeleton(child,supernode_values,nonsupernode_values,leave_values)\n",
    "        # if the node has height > 0 is not a supernode, labels itself and the calls upon its children\n",
    "        elif self.height > 0 and self.supernode == False:\n",
    "            for i in range(0,nonsupernode_values):\n",
    "                self.value.append(num)\n",
    "                num+=1\n",
    "            for child in self.children:\n",
    "                Node.call_label_skeleton(child,supernode_values,nonsupernode_values,leave_values)\n",
    "        else:\n",
    "        # if height == 0, the node labels itself \n",
    "            for i in range(0, leave_values):\n",
    "                self.value.append(num)\n",
    "                num+=1\n",
    "    \n",
    "    # resets num, and then calls a function which labels the tree using negative supernodes \n",
    "    # num_negatives determines the number of labels in each supernode \n",
    "    def neg_labels(self,num_negatives):\n",
    "        global num\n",
    "        num = 1\n",
    "        Node.call_neg_labels(self, num_negatives)\n",
    "    \n",
    "    # traverses the tree and labels each node. supernodes \"undo\" the previous n labels determined by num_negatives\n",
    "    def call_neg_labels(self, num_negatives):\n",
    "        global num\n",
    "        #if a node is a supernode and height >0, calls the function on its left child\n",
    "        #then undos the previous n labels (these become that nodes labels) and calls the function on other children\n",
    "        if self.supernode==True and self.height>0:\n",
    "            Node.call_neg_labels(self.children[0],num_negatives)\n",
    "            num -=1\n",
    "            self.value.append(num)\n",
    "            for i in range(0,num_negatives-1):\n",
    "                num -=1\n",
    "                self.value.append(num)\n",
    "            for child in self.children[1:]:\n",
    "                Node.call_neg_labels(child,num_negatives)\n",
    "        # the rest of the function proceeds the same as the label_skeleton function\n",
    "        elif self.height > 0 and self.supernode == False:\n",
    "            self.value.append(num)\n",
    "            num+=1\n",
    "            for child in self.children:\n",
    "                Node.call_neg_labels(child,num_negatives)\n",
    "        else:\n",
    "                self.value.append(num)\n",
    "                num+=1        \n",
    "            \n",
    "    # this function prints the labels of each node in the lable they would be traversed#\n",
    "    # mostly used for debugging purposes #\n",
    "    def print_tree(self):\n",
    "        if self.height > 0 and self.supernode==True:\n",
    "            self.children[0].print_tree()\n",
    "            print(str(self.value),end='')\n",
    "            for child in self.children[1:]:\n",
    "                child.print_tree()\n",
    "        elif self.height > 0 and self.supernode == False:\n",
    "            print(str(self.value), end = '')\n",
    "            for child in self.children:\n",
    "                child.print_tree()\n",
    "        else:\n",
    "            print(str(self.value),end= '' )\n",
    "        return ''\n",
    "    \n",
    "    # this is old and only works for positive supernode labels\n",
    "    def old_find_sequence(self): \n",
    "        global leaves\n",
    "        leaves = 0\n",
    "        return Node.old_call_find_sequence(self,[])\n",
    "        \n",
    "    # this is old and only works for positive supernode labels    \n",
    "    def old_call_find_sequence(self, list):\n",
    "        global leaves\n",
    "        if self.height > 0 and self.supernode==True:\n",
    "            self.children[0].old_call_find_sequence(list)\n",
    "            for i in self.value:\n",
    "                list.append(leaves)\n",
    "            for child in self.children[1:]:\n",
    "                child.old_call_find_sequence(list)\n",
    "        elif self.height > 0 and self.supernode == False:\n",
    "            for i in self.value:\n",
    "                list.append(leaves)\n",
    "            for child in self.children:\n",
    "                child.old_call_find_sequence(list)\n",
    "        else:\n",
    "            leaves += 1\n",
    "            for i in self.value:\n",
    "                list.append(leaves)\n",
    "        return list\n",
    "    \n",
    "    # calls upon helper function to create a list of leaves\n",
    "    # seq is the sequence represented by the tree, place_in_seq is the current position in the sequence\n",
    "    # leaves_less_than is the number of leaves less than the current position in the sequence\n",
    "    # new_list_of_leaves helps remove leaves that are less than the current position\n",
    "    def find_sequence(self):\n",
    "        list_of_leaves = Node.call_find_sequence(self,[])\n",
    "        seq = []\n",
    "        place_in_seq = 0\n",
    "        leaves_less_than = 0\n",
    "        new_list_of_leaves = []\n",
    "    # continues looping through the list of leaves until it is empty\n",
    "    # \n",
    "        while len(list_of_leaves) != 0:\n",
    "            for item in list_of_leaves:\n",
    "                if item <= place_in_seq + 1:\n",
    "                    leaves_less_than += 1\n",
    "                else:\n",
    "                    new_list_of_leaves.append(item)\n",
    "            seq.append(leaves_less_than)\n",
    "            place_in_seq += 1 \n",
    "            list_of_leaves=new_list_of_leaves\n",
    "            new_list_of_leaves=[]\n",
    "        return seq\n",
    "                \n",
    "            \n",
    "        \n",
    "    # goes through each node in the tree and creates a list of leaves    \n",
    "    def call_find_sequence(self,list_of_leaves):\n",
    "        if self.height>0: \n",
    "            for child in self.children:\n",
    "                child.call_find_sequence(list_of_leaves)\n",
    "        elif self.height == 0:\n",
    "            list_of_leaves.append(self.value[0])\n",
    "        return list_of_leaves\n",
    "            \n",
    "                        \n",
    "## test ##\n",
    "node1 = Node(height=5)\n",
    "node1.make_skeleton(2)\n",
    "node1.neg_labels(2)    \n",
    "print(node1.find_sequence())"
   ]
  },
  {
   "cell_type": "code",
   "execution_count": 68,
   "id": "b59dd806-b65e-4600-a985-b1302db1280d",
   "metadata": {},
   "outputs": [],
   "source": [
    "def conn(n):\n",
    "    next_vert  = 1\n",
    "    root = 0\n",
    "    tree = Graph()\n",
    "    tree.add_vertex(0)\n",
    "    for i in range(n):\n",
    "        tree.add_vertex(next_vert)\n",
    "        tree.add_edge(root,next_vert)\n",
    "        next_root = next_vert\n",
    "        next_vert += 1\n",
    "        # traverse what we have to make copy #\n",
    "        visited = {}\n",
    "        parents = {}\n",
    "        to_process = [root]\n",
    "        while len(to_process) > 0:\n",
    "            cur_vert = to_process[0]\n",
    "            to_process = to_process[1:]\n",
    "            tree.add_vertex(next_vert)\n",
    "            visited[cur_vert] = next_vert\n",
    "            if cur_vert == root:\n",
    "                tree.add_edge(next_vert,next_root)\n",
    "            else:\n",
    "                tree.add_edge(next_vert,parents[cur_vert])\n",
    "            for v in tree.neighbors(cur_vert):\n",
    "                if v not in visited and v != next_root:\n",
    "                    parents[v] = next_vert\n",
    "                    to_process.append(v)\n",
    "            next_vert +=1\n",
    "        root = next_root\n",
    "    return tree\n",
    "    \n",
    "        \n",
    "        "
   ]
  },
  {
   "cell_type": "code",
   "execution_count": 69,
   "id": "f574d706-d4bf-4820-8173-2e4a63cd2481",
   "metadata": {},
   "outputs": [
    {
     "name": "stdout",
     "output_type": "stream",
     "text": [
      "IGRAPH UN-- 15 14 --\n",
      "+ attr: name (v)\n",
      "+ edges (vertex names):\n",
      "0--1, 1--2, 1--3, 3--4, 4--5, 4--6, 3--7, 7--8, 8--9, 8--10, 9--11, 9--12,\n",
      "10--13, 10--14\n"
     ]
    }
   ],
   "source": [
    "print(conn(3))"
   ]
  },
  {
   "cell_type": "code",
   "execution_count": 70,
   "id": "ea5fd44d-237b-4d7e-ad01-d2406f30e0b3",
   "metadata": {},
   "outputs": [
    {
     "data": {
      "text/plain": [
       "[(0, 1),\n",
       " (1, 2),\n",
       " (1, 3),\n",
       " (3, 4),\n",
       " (4, 5),\n",
       " (4, 6),\n",
       " (3, 7),\n",
       " (7, 8),\n",
       " (8, 9),\n",
       " (8, 10),\n",
       " (9, 11),\n",
       " (9, 12),\n",
       " (10, 13),\n",
       " (10, 14)]"
      ]
     },
     "execution_count": 70,
     "metadata": {},
     "output_type": "execute_result"
    }
   ],
   "source": [
    "tree1 = conn(3)\n",
    "tree1.get_edgelist()\n",
    "#tree1_lay = tree1.layout_sugiyama(layers=[3,2,3,1,2,3,3,0,1,2,2,3,3,3,3])\n",
    "#igraph.plot(tree1,layout=tree1_lay)"
   ]
  },
  {
   "cell_type": "code",
   "execution_count": null,
   "id": "d578a215-ca83-4e8f-a1ed-070023787816",
   "metadata": {},
   "outputs": [],
   "source": []
  }
 ],
 "metadata": {
  "kernelspec": {
   "display_name": "Python 3 (ipykernel)",
   "language": "python",
   "name": "python3"
  },
  "language_info": {
   "codemirror_mode": {
    "name": "ipython",
    "version": 3
   },
   "file_extension": ".py",
   "mimetype": "text/x-python",
   "name": "python",
   "nbconvert_exporter": "python",
   "pygments_lexer": "ipython3",
   "version": "3.10.4"
  }
 },
 "nbformat": 4,
 "nbformat_minor": 5
}
