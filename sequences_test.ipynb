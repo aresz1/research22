{
 "cells": [
  {
   "cell_type": "markdown",
   "id": "c5eb605b-0bdd-430e-9552-eb0dbc803dba",
   "metadata": {},
   "source": [
    "Testing the `sequences` module."
   ]
  },
  {
   "cell_type": "code",
   "execution_count": 1,
   "id": "a4eeaee2-342b-4349-b54b-bed04e70b76b",
   "metadata": {},
   "outputs": [],
   "source": [
    "import sympy\n",
    "import sequences"
   ]
  },
  {
   "cell_type": "markdown",
   "id": "ec0cea36-9432-4732-bd6f-a9dc3a9506de",
   "metadata": {},
   "source": [
    "Tests with the Hofstadter $Q$-Recurrence:"
   ]
  },
  {
   "cell_type": "code",
   "execution_count": 2,
   "id": "b4799e03-1730-4e69-b5d8-2e4f10514b9b",
   "metadata": {},
   "outputs": [],
   "source": [
    "#Define our symbols\n",
    "q = sympy.Function('Q')\n",
    "n = sympy.symbols('n')"
   ]
  },
  {
   "cell_type": "code",
   "execution_count": 3,
   "id": "336d2743-9602-466e-b7c9-b16a3dffc263",
   "metadata": {},
   "outputs": [
    {
     "data": {
      "text/plain": [
       "Q(n - Q(n - 2)) + Q(n - Q(n - 1))"
      ]
     },
     "execution_count": 3,
     "metadata": {},
     "output_type": "execute_result"
    }
   ],
   "source": [
    "#Define our recurrence\n",
    "hof_q = sequences.Recurrence(q(n-q(n-1)) + q(n-q(n-2)), q, n)\n",
    "hof_q"
   ]
  },
  {
   "cell_type": "code",
   "execution_count": 4,
   "id": "3a320bd6-01f8-4bb1-9fcd-2a5c44b46107",
   "metadata": {},
   "outputs": [
    {
     "data": {
      "text/plain": [
       "[1, 1, 2, 3, 3, 4, 5, 5, 6, 6, 6, 8, 8, 8, 10, 9, 10, 11, 11, 12, 12, 12, 12, 16, 14, 14, 16, 16, 16, 16, 20, 17, 17, 20, 21, 19, 20, 22, 21, 22, 23, 23, 24, 24, 24, 24, 24, 32, 24, 25, 30, 28, 26, 30, 30, 28, 32, 30, 32, 32, 32, 32, 40, 33, 31, 38, 35, 33, 39, 40, 37, 38, 40, 39, 40, 39, 42, 40, 41, 43, 44, 43, 43, 46, 44, 45, 47, 47, 46, 48, 48, 48, 48, 48, 48, 64, 41, 52, 54, 56]"
      ]
     },
     "execution_count": 4,
     "metadata": {},
     "output_type": "execute_result"
    }
   ],
   "source": [
    "#The Q-Recurrence itself, in one line\n",
    "#Generate the first 100 terms\n",
    "sequences.seq_terms(sequences.Sequence([1,1]), hof_q, 1, 101)"
   ]
  },
  {
   "cell_type": "code",
   "execution_count": 5,
   "id": "bb442129-1451-4e41-b7b7-0d82b105d034",
   "metadata": {},
   "outputs": [
    {
     "data": {
      "text/plain": [
       "[1, 1, 2, 3, 3, 4, 5, 5, 6, 6, 6, 8, 8, 8, 10, 9, 10, 11, 11, 12, 12, 12, 12, 16, 14, 14, 16, 16, 16, 16, 20, 17, 17, 20, 21, 19, 20, 22, 21, 22, 23, 23, 24, 24, 24, 24, 24, 32, 24, 25, 30, 28, 26, 30, 30, 28, 32, 30, 32, 32, 32, 32, 40, 33, 31, 38, 35, 33, 39, 40, 37, 38, 40, 39, 40, 39, 42, 40, 41, 43, 44, 43, 43, 46, 44, 45, 47, 47, 46, 48, 48, 48, 48, 48, 48, 64, 41, 52, 54, 56]"
      ]
     },
     "execution_count": 5,
     "metadata": {},
     "output_type": "execute_result"
    }
   ],
   "source": [
    "#The Q-Recurrence itself, in multiple lines\n",
    "#Generate the first 100 terms\n",
    "ic = sequences.Sequence()\n",
    "ic[1:] = [1, 1]\n",
    "sequences.seq_terms(ic, hof_q, 1, 101)"
   ]
  },
  {
   "cell_type": "code",
   "execution_count": 6,
   "id": "aea6fcc1-1f75-4623-9947-352f0f9e381e",
   "metadata": {},
   "outputs": [
    {
     "data": {
      "text/plain": [
       "[1, 1, 2, 3, 3, 4, 5, 5, 6, 6, 6, 8, 8, 8, 10, 9, 10, 11, 11, 12, 12, 12, 12, 16, 14, 14, 16, 16, 16, 16, 20, 17, 17, 20, 21, 19, 20, 22, 21, 22, 23, 23, 24, 24, 24, 24, 24, 32, 24, 25, 30, 28, 26, 30, 30, 28, 32, 30, 32, 32, 32, 32, 40, 33, 31, 38, 35, 33, 39, 40, 37, 38, 40, 39, 40, 39, 42, 40, 41, 43, 44, 43, 43, 46, 44, 45, 47, 47, 46, 48, 48, 48, 48, 48, 48, 64, 41, 52, 54, 56]"
      ]
     },
     "execution_count": 6,
     "metadata": {},
     "output_type": "execute_result"
    }
   ],
   "source": [
    "#The Q-Recurrence itself, in even more multiple lines\n",
    "#Generate the first 100 terms\n",
    "ic = sequences.Sequence()\n",
    "ic[1] = 1\n",
    "ic[2] = 1\n",
    "sequences.seq_terms(ic, hof_q, 1, 101)"
   ]
  },
  {
   "cell_type": "code",
   "execution_count": 7,
   "id": "db34beb8-22f8-40d1-a298-f73abc0cd5c2",
   "metadata": {},
   "outputs": [
    {
     "data": {
      "text/plain": [
       "[1, 1, 2, 3, 3, 4, 5, 5, 6, 6, 6, 8, 8, 8, 10, 9, 10, 11, 11, 12, 12, 12, 12, 16, 14, 14, 16, 16, 16, 16, 20, 17, 17, 20, 21, 19, 20, 22, 21, 22, 23, 23, 24, 24, 24, 24, 24, 32, 24, 25, 30, 28, 26, 30, 30, 28, 32, 30, 32, 32, 32, 32, 40, 33, 31, 38, 35, 33, 39, 40, 37, 38, 40, 39, 40, 39, 42, 40, 41, 43, 44, 43, 43, 46, 44, 45, 47, 47, 46, 48, 48, 48, 48, 48, 48, 64, 41, 52, 54, 56]"
      ]
     },
     "execution_count": 7,
     "metadata": {},
     "output_type": "execute_result"
    }
   ],
   "source": [
    "#The Q-Recurrence itself, using default values\n",
    "#Generate the first 100 terms\n",
    "ic = sequences.Sequence()\n",
    "ic[1:3] = 1\n",
    "sequences.seq_terms(ic, hof_q, 1, 101)"
   ]
  },
  {
   "cell_type": "code",
   "execution_count": 8,
   "id": "156a5259-61ef-42f5-8751-e20c0bd11545",
   "metadata": {},
   "outputs": [
    {
     "data": {
      "text/plain": [
       "[3, 6, 5, 3, 6, 8, 3, 6, 13, 3, 6, 21, 3, 6, 34, 3, 6, 55, 3, 6, 89, 3, 6, 144, 3, 6, 233, 3, 6, 377, 3, 6, 610, 3, 6, 987, 3, 6, 1597, 3, 6, 2584, 3, 6, 4181, 3, 6, 6765, 3, 6, 10946, 3, 6, 17711, 3, 6, 28657, 3, 6, 46368, 3, 6, 75025, 3, 6, 121393, 3, 6, 196418, 3, 6, 317811, 3, 6, 514229, 3, 6, 832040, 3, 6, 1346269, 3, 6, 2178309, 3, 6, 3524578, 3, 6, 5702887, 3, 6, 9227465, 3, 6, 14930352, 3, 6, 24157817, 3]"
      ]
     },
     "execution_count": 8,
     "metadata": {},
     "output_type": "execute_result"
    }
   ],
   "source": [
    "#The Ruskey sequence\n",
    "#Generate the first 100 terms\n",
    "ic = sequences.Sequence([3, 6, 5, 3, 6, 8])\n",
    "#Default values of 0 for indices less than or equal to 0\n",
    "ic[:1] = 0\n",
    "sequences.seq_terms(ic, hof_q, 1, 101)"
   ]
  },
  {
   "cell_type": "markdown",
   "id": "8b621c11-9165-4325-a3ce-a6d50efa5305",
   "metadata": {},
   "source": [
    "Tests with other recurrences"
   ]
  },
  {
   "cell_type": "code",
   "execution_count": 9,
   "id": "571ec0c8-afa5-4c96-8bce-f003393943da",
   "metadata": {},
   "outputs": [],
   "source": [
    "#Define our symbols\n",
    "g = sympy.Function('G')\n",
    "c = sympy.Function('C')"
   ]
  },
  {
   "cell_type": "code",
   "execution_count": 10,
   "id": "61055639-d581-4dcc-8319-e84a9676626c",
   "metadata": {},
   "outputs": [
    {
     "data": {
      "text/plain": [
       "[1, 2, 2, 3, 3, 3, 4, 4, 4, 4, 5, 5, 5, 5, 5, 6, 6, 6, 6, 6, 6, 7, 7, 7, 7, 7, 7, 7, 8, 8, 8, 8, 8, 8, 8, 8, 9, 9, 9, 9, 9, 9, 9, 9, 9, 10, 10, 10, 10, 10, 10, 10, 10, 10, 10, 11, 11, 11, 11, 11, 11, 11, 11, 11, 11, 11, 12, 12, 12, 12, 12, 12, 12, 12, 12, 12, 12, 12, 13, 13, 13, 13, 13, 13, 13, 13, 13, 13, 13, 13, 13, 14, 14, 14, 14, 14, 14, 14, 14, 14]"
      ]
     },
     "execution_count": 10,
     "metadata": {},
     "output_type": "execute_result"
    }
   ],
   "source": [
    "#Golomb sequence\n",
    "gol_rec = sequences.Recurrence(g(n-g(n-1)) + 1, g, n)\n",
    "ic = sequences.Sequence([1])\n",
    "sequences.seq_terms(ic, gol_rec, 1, 101)"
   ]
  },
  {
   "cell_type": "code",
   "execution_count": 11,
   "id": "25999a1c-153e-457b-aabd-758cf59e4492",
   "metadata": {},
   "outputs": [
    {
     "data": {
      "text/plain": [
       "[1, 2, 2, 3, 4, 4, 4, 5, 6, 6, 7, 8, 8, 8, 8, 9, 10, 10, 11, 12, 12, 12, 13, 14, 14, 15, 16, 16, 16, 16, 16, 17, 18, 18, 19, 20, 20, 20, 21, 22, 22, 23, 24, 24, 24, 24, 25, 26, 26, 27, 28, 28, 28, 29, 30, 30, 31, 32, 32, 32, 32, 32, 32, 33, 34, 34, 35, 36, 36, 36, 37, 38, 38, 39, 40, 40, 40, 40, 41, 42, 42, 43, 44, 44, 44, 45, 46, 46, 47, 48, 48, 48, 48, 48, 49, 50, 50, 51, 52, 52]"
      ]
     },
     "execution_count": 11,
     "metadata": {},
     "output_type": "execute_result"
    }
   ],
   "source": [
    "#Conolly sequence (without the extra 1 at the beginning)\n",
    "con_rec = sequences.Recurrence(c(n-c(n-1)) + c(n-1-c(n-2)), c, n)\n",
    "ic = sequences.Sequence([1, 2])\n",
    "sequences.seq_terms(ic, con_rec, 1, 101)"
   ]
  },
  {
   "cell_type": "code",
   "execution_count": null,
   "id": "61b26619-113b-4a45-ad49-88d571edd3fa",
   "metadata": {},
   "outputs": [],
   "source": []
  }
 ],
 "metadata": {
  "kernelspec": {
   "display_name": "Python 3 (ipykernel)",
   "language": "python",
   "name": "python3"
  },
  "language_info": {
   "codemirror_mode": {
    "name": "ipython",
    "version": 3
   },
   "file_extension": ".py",
   "mimetype": "text/x-python",
   "name": "python",
   "nbconvert_exporter": "python",
   "pygments_lexer": "ipython3",
   "version": "3.9.5"
  }
 },
 "nbformat": 4,
 "nbformat_minor": 5
}
